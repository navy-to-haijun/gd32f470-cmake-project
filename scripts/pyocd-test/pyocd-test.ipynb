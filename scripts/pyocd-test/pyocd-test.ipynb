{
 "cells": [
  {
   "cell_type": "code",
   "execution_count": 32,
   "metadata": {},
   "outputs": [],
   "source": [
    "from pyocd.core.helpers import ConnectHelper\n",
    "from pyocd.core.soc_target import SoCTarget\n",
    "from pyocd.debug.rtt import RTTControlBlock, RTTUpChannel, RTTDownChannel\n",
    "from time import sleep"
   ]
  },
  {
   "cell_type": "code",
   "execution_count": 36,
   "metadata": {},
   "outputs": [
    {
     "name": "stderr",
     "output_type": "stream",
     "text": [
      "Board ID lckf is not recognized\n",
      "Invalid coresight component, cidr=0x0\n"
     ]
    },
    {
     "name": "stdout",
     "output_type": "stream",
     "text": [
      "1024\n",
      "b'a = 3\\na = 4\\na = 5\\na = 6\\na = 7\\na = 8\\na = 9\\na = 10\\na = 11\\na = 12\\na = 13\\na = 14\\na = 15\\na = 16\\na = 17\\na = 18\\na = 19\\na = 20\\na = 21\\na = 22\\na = 23\\na = 24\\na = 25\\na = 26\\na = 27\\na = 28\\na = 29\\na = 30\\na = 31\\na = 32\\na = 33\\na = 34\\na = 35\\na = 36\\na = 37\\na = 38\\na = 39\\na = 40\\na = 41\\na = 42\\na = 43\\na = 44\\na = 45\\na = 46\\na = 47\\na = 48\\na = 49\\na = 50\\na = 51\\na = 52\\na = 53\\na = 54\\na = 55\\na = 56\\na = 57\\na = 58\\na = 59\\na = 60\\na = 61\\na = 62\\na = 63\\na = 64\\na = 65\\na = 66\\na = 67\\na = 68\\na = 69\\na = 70\\na = 71\\na = 72\\na = 73\\na = 74\\na = 75\\na = 76\\na = 77\\na = 78\\na = 79\\na = 80\\na = 81\\na = 82\\na = 83\\na = 84\\na = 85\\na = 86\\na = 87\\na = 88\\na = 89\\na = 90\\na = 91\\na = 92\\na = 93\\na = 94\\na = 95\\na = 96\\na = 97\\na = 98\\na = 99\\na = 100\\na = 101\\na = 102\\na = 103\\na = 104\\na = 105\\na = 106\\na = 107\\na = 108\\na = 109\\na = 110\\na = 111\\na = 112\\na = 113\\na = 114\\na = 115\\na = 116\\na = 117\\na = 118\\na = 119\\na = 120\\na = 121\\na = 122\\na = 123\\na = 124\\na = 125\\na = 126\\na = 127\\na = -128\\na = -127\\na = -126\\na = -125\\na = -124\\na = -123\\na = -122\\na = -121\\na = -120\\na = -119\\na = -118\\na = -117\\na = -116\\na = -115\\n'\n",
      "b''\n"
     ]
    }
   ],
   "source": [
    "session = ConnectHelper.session_with_chosen_probe(config_file = \"./pyocd.yaml\")\n",
    "if session is None:\n",
    "    print('No target device available')\n",
    "with session:\n",
    "    target: SoCTarget = session.board.target\n",
    "    control_block = RTTControlBlock.from_target(target=target)\n",
    "    control_block.start()\n",
    "    if len(control_block.up_channels) < 1:\n",
    "        print(\"No up channels.\")\n",
    "    else:\n",
    "        # 选择上行和下行通道\n",
    "        up_chan: RTTUpChannel = control_block.up_channels[0]\n",
    "        down_chan: RTTDownChannel = control_block.down_channels[0]\n",
    "        # sleep(2)\n",
    "        print(up_chan.size)\n",
    "        up_data: bytes = up_chan.read()\n",
    "        print(up_data)\n",
    "        up_data: bytes = up_chan.read()\n",
    "        print(up_data)"
   ]
  }
 ],
 "metadata": {
  "kernelspec": {
   "display_name": "Python 3",
   "language": "python",
   "name": "python3"
  },
  "language_info": {
   "codemirror_mode": {
    "name": "ipython",
    "version": 3
   },
   "file_extension": ".py",
   "mimetype": "text/x-python",
   "name": "python",
   "nbconvert_exporter": "python",
   "pygments_lexer": "ipython3",
   "version": "3.10.12"
  }
 },
 "nbformat": 4,
 "nbformat_minor": 2
}
