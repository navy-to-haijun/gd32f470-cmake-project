{
 "cells": [
  {
   "cell_type": "code",
   "execution_count": 12,
   "metadata": {},
   "outputs": [],
   "source": [
    "import ctypes"
   ]
  },
  {
   "cell_type": "code",
   "execution_count": 13,
   "metadata": {},
   "outputs": [],
   "source": [
    "jlink = ctypes.cdll.LoadLibrary('/opt/SEGGER/JLink/libjlinkarm.so')"
   ]
  },
  {
   "cell_type": "code",
   "execution_count": 14,
   "metadata": {},
   "outputs": [
    {
     "name": "stdout",
     "output_type": "stream",
     "text": [
      "Command executed successfully!\n",
      "Speed = 2000 KHz\n"
     ]
    }
   ],
   "source": [
    "sError = jlink.JLINKARM_Open()\n",
    "if sError:\n",
    "    print('jlink open error')\n",
    "    jlink.JLINKARM_Close()\n",
    "    exit(1)\n",
    "\n",
    "accmd = (ctypes.c_char * 64)()\n",
    "accmd.value = b'Device = GD32F470ZG' \n",
    "err_buff = (ctypes.c_char * 64)()\n",
    "# 设置单片机类型\n",
    "jlink.JLINKARM_ExecCommand(accmd, err_buff, 64)\n",
    "if not len(err_buff.value):\n",
    "    print(\"Command executed successfully!\")\n",
    "else:\n",
    "    print(\"Failed to execute command!\")\n",
    "    print(f'{err_buff.value}')\n",
    "    jlink.JLINKARM_Close()\n",
    "    exit(1)\n",
    "# 选择调试方式:0 JTAG 1 SWD\n",
    "jlink.JLINKARM_TIF_Select(1)\n",
    "# 设置速度:单位 KHz\n",
    "jlink.JLINKARM_SetMaxSpeed()\n",
    "print(f'Speed = {jlink.JLINKARM_GetSpeed()} KHz')\n"
   ]
  },
  {
   "cell_type": "code",
   "execution_count": 40,
   "metadata": {},
   "outputs": [
    {
     "name": "stdout",
     "output_type": "stream",
     "text": [
      "1\n"
     ]
    }
   ],
   "source": [
    "buff1 = (ctypes.c_int8 * 100)()\n",
    "sError = jlink.JLINK_RTTERMINAL_Control(4, buff1)\n",
    "print(sError)\n"
   ]
  },
  {
   "cell_type": "code",
   "execution_count": 41,
   "metadata": {},
   "outputs": [
    {
     "data": {
      "text/plain": [
       "[64, 12, 0, 0, 1, 6, 0, 0, 0, 0, 0, 0, 1, 0, 0, 0, 3, 0, 0, 0]"
      ]
     },
     "execution_count": 41,
     "metadata": {},
     "output_type": "execute_result"
    }
   ],
   "source": [
    "buff1[0:20]"
   ]
  },
  {
   "cell_type": "code",
   "execution_count": 29,
   "metadata": {},
   "outputs": [
    {
     "name": "stdout",
     "output_type": "stream",
     "text": [
      "136\n",
      "b'a = -70\\na = -69\\na = -68\\na = -67\\na = -66\\na = -65\\na = -64\\na = -63\\na = -62\\na = -61\\na = -60\\na = -59\\na = -58\\na = -57\\na = -56\\na = -55\\na = -54\\n'\n",
      "0\n",
      "b'a = -70\\na = -69\\na = -68\\na = -67\\na = -66\\na = -65\\na = -64\\na = -63\\na = -62\\na = -61\\na = -60\\na = -59\\na = -58\\na = -57\\na = -56\\na = -55\\na = -54\\n'\n",
      "0\n",
      "b'a = -70\\na = -69\\na = -68\\na = -67\\na = -66\\na = -65\\na = -64\\na = -63\\na = -62\\na = -61\\na = -60\\na = -59\\na = -58\\na = -57\\na = -56\\na = -55\\na = -54\\n'\n",
      "0\n",
      "b'a = -70\\na = -69\\na = -68\\na = -67\\na = -66\\na = -65\\na = -64\\na = -63\\na = -62\\na = -61\\na = -60\\na = -59\\na = -58\\na = -57\\na = -56\\na = -55\\na = -54\\n'\n",
      "0\n",
      "b'a = -70\\na = -69\\na = -68\\na = -67\\na = -66\\na = -65\\na = -64\\na = -63\\na = -62\\na = -61\\na = -60\\na = -59\\na = -58\\na = -57\\na = -56\\na = -55\\na = -54\\n'\n",
      "0\n",
      "b'a = -70\\na = -69\\na = -68\\na = -67\\na = -66\\na = -65\\na = -64\\na = -63\\na = -62\\na = -61\\na = -60\\na = -59\\na = -58\\na = -57\\na = -56\\na = -55\\na = -54\\n'\n",
      "0\n",
      "b'a = -70\\na = -69\\na = -68\\na = -67\\na = -66\\na = -65\\na = -64\\na = -63\\na = -62\\na = -61\\na = -60\\na = -59\\na = -58\\na = -57\\na = -56\\na = -55\\na = -54\\n'\n",
      "0\n",
      "b'a = -70\\na = -69\\na = -68\\na = -67\\na = -66\\na = -65\\na = -64\\na = -63\\na = -62\\na = -61\\na = -60\\na = -59\\na = -58\\na = -57\\na = -56\\na = -55\\na = -54\\n'\n",
      "0\n",
      "b'a = -70\\na = -69\\na = -68\\na = -67\\na = -66\\na = -65\\na = -64\\na = -63\\na = -62\\na = -61\\na = -60\\na = -59\\na = -58\\na = -57\\na = -56\\na = -55\\na = -54\\n'\n",
      "0\n",
      "b'a = -70\\na = -69\\na = -68\\na = -67\\na = -66\\na = -65\\na = -64\\na = -63\\na = -62\\na = -61\\na = -60\\na = -59\\na = -58\\na = -57\\na = -56\\na = -55\\na = -54\\n'\n"
     ]
    }
   ],
   "source": [
    "buff = (ctypes.c_char * 256)()\n",
    "a = 10\n",
    "while a:\n",
    "    num = jlink.JLINK_RTTERMINAL_Read(0, buff, 256)\n",
    "    print(num)\n",
    "    print(buff.value)\n",
    "    a = a-1"
   ]
  },
  {
   "cell_type": "code",
   "execution_count": 80,
   "metadata": {},
   "outputs": [
    {
     "name": "stdout",
     "output_type": "stream",
     "text": [
      "0\n"
     ]
    }
   ],
   "source": [
    "sError = jlink.JLINK_RTTERMINAL_Control(1, ctypes.c_void_p())\n",
    "print(sError)\n"
   ]
  },
  {
   "cell_type": "code",
   "execution_count": 42,
   "metadata": {},
   "outputs": [
    {
     "data": {
      "text/plain": [
       "0"
      ]
     },
     "execution_count": 42,
     "metadata": {},
     "output_type": "execute_result"
    }
   ],
   "source": [
    "jlink.JLINKARM_Close()"
   ]
  }
 ],
 "metadata": {
  "kernelspec": {
   "display_name": "Python 3",
   "language": "python",
   "name": "python3"
  },
  "language_info": {
   "codemirror_mode": {
    "name": "ipython",
    "version": 3
   },
   "file_extension": ".py",
   "mimetype": "text/x-python",
   "name": "python",
   "nbconvert_exporter": "python",
   "pygments_lexer": "ipython3",
   "version": "3.10.12"
  }
 },
 "nbformat": 4,
 "nbformat_minor": 2
}
